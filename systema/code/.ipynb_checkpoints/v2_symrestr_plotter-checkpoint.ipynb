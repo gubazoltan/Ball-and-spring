{
 "cells": [
  {
   "cell_type": "code",
   "execution_count": 23,
   "id": "71a39042-6c24-44fd-a352-4d6b89879dfc",
   "metadata": {},
   "outputs": [],
   "source": [
    "import numpy as np\n",
    "import matplotlib.pyplot as plt"
   ]
  },
  {
   "cell_type": "code",
   "execution_count": 24,
   "id": "42681772-c617-46ce-9019-37d27c89f058",
   "metadata": {},
   "outputs": [],
   "source": [
    "k3s = [0.96, 1.0, 1.04, 1.08, 1.12]   "
   ]
  },
  {
   "cell_type": "code",
   "execution_count": 25,
   "id": "b3577a0d-d995-41ad-a133-159afd02840e",
   "metadata": {},
   "outputs": [],
   "source": [
    "numpoints = 61\n",
    "\n",
    "a1s = np.linspace( -np.pi, np.pi, numpoints, endpoint = False)\n",
    "a2s = np.linspace( -np.pi, np.pi, numpoints, endpoint = False)\n",
    "\n",
    "da1 = np.abs(a1s[1] - a1s[0]) \n",
    "da2 = np.abs(a2s[1] - a2s[0]) "
   ]
  },
  {
   "cell_type": "code",
   "execution_count": 26,
   "id": "b0d3b134-4dcf-4157-ba27-69597327d8c4",
   "metadata": {},
   "outputs": [],
   "source": [
    "fname = \"../datas/v2_symrestr_\" + str(numpoints)\n",
    "indata = np.loadtxt(fname)\n",
    "\n",
    "vorts_list = indata.reshape((len(k3s), numpoints, numpoints))"
   ]
  },
  {
   "cell_type": "code",
   "execution_count": 27,
   "id": "d40af4c2-2a68-48ef-9b37-f6d30e984d27",
   "metadata": {},
   "outputs": [
    {
     "name": "stdout",
     "output_type": "stream",
     "text": [
      "1.12\n",
      "blue\n",
      "red\n",
      "1.08\n",
      "blue\n",
      "red\n",
      "1.04\n",
      "blue\n",
      "red\n",
      "blue\n",
      "red\n",
      "1.0\n",
      "blue\n",
      "red\n",
      "blue\n",
      "red\n",
      "0.96\n",
      "blue\n",
      "red\n",
      "blue\n",
      "red\n"
     ]
    },
    {
     "data": {
      "image/png": "[encoded data removed]",
      "text/plain": [
       "<Figure size 500x500 with 1 Axes>"
      ]
     },
     "metadata": {},
     "output_type": "display_data"
    }
   ],
   "source": [
    "fig = plt.figure(figsize = (5,5))\n",
    "\n",
    "alpha_min = 0.2\n",
    "alpha_max = 0.99\n",
    "\n",
    "a = (alpha_max - alpha_min) / (np.max(k3s) - np.min(k3s))\n",
    "b = alpha_max  - a * np.max(k3s)\n",
    "\n",
    "for k in range(len(vorts_list)-1,-1,-1):\n",
    "    \n",
    "    k3 = k3s[k] \n",
    "    print(k3)\n",
    "    vorticies = vorts_list[k]\n",
    "    \n",
    "    #iterate through the parameter space\n",
    "    for i in range(len(a2s)):\n",
    "        for j in range(len(a1s)):\n",
    "            \n",
    "            #if there is a point with vorticitiy close to 1 then plot it as a red dot\n",
    "            if np.abs( vorticies[i,j] - 1 ) < 1e-5:\n",
    "                plt.scatter(a1s[j] + da1 / 2, a2s[i] + da2 / 2, color = \"red\", s = 30, alpha = a * k3 + b)\n",
    "                print(\"red\")\n",
    "                \n",
    "            #if there is a point with vorticitiy close to -1 then plot it as a blue dot\n",
    "            elif np.abs( vorticies[i,j] + 1 ) < 1e-5:\n",
    "                plt.scatter(a1s[j] + da1 / 2, a2s[i] + da2 / 2, color = \"blue\", s = 30, alpha = a * k3 + b)\n",
    "                print(\"blue\")\n",
    "                \n",
    "            elif np.abs( vorticies[i,j]) < 1e-5:\n",
    "                pass\n",
    "            else:\n",
    "                print(\"charge:\", vorticies[i,j])\n",
    "\n",
    "#add labels to axis\n",
    "plt.xlabel(r\"$\\alpha$\", fontsize = 16)\n",
    "plt.ylabel(r\"$\\beta$\", fontsize = 16)\n",
    "\n",
    "#add new tick labels\n",
    "tickvals = [-np.pi, -np.pi/2,0, np.pi/2, np.pi]\n",
    "ticklabels = [r\"$-\\pi$\", r\"$- \\pi /2$\", r\"$0$\", r\"$\\pi/2$\", r\"$\\pi$\"]\n",
    "\n",
    "#add the ticks to the figure\n",
    "plt.xticks(tickvals, ticklabels, fontsize = 10)\n",
    "plt.yticks(tickvals, ticklabels, fontsize = 10)\n",
    "\n",
    "plt.legend([r\"$q = +1$\", r\"$q = -1$\"], fontsize = 14)\n",
    "plt.savefig(\"../figures/v2_symrestr.svg\", dpi = 1200, bbox_inches = \"tight\")\n",
    "plt.show()"
   ]
  },
  {
   "cell_type": "code",
   "execution_count": 6,
   "id": "9b58d07a-1332-459f-b2fb-9419151bfd8b",
   "metadata": {},
   "outputs": [
    {
     "data": {
      "text/plain": [
       "0.849462365591398"
      ]
     },
     "execution_count": 6,
     "metadata": {},
     "output_type": "execute_result"
    }
   ],
   "source": [
    "a"
   ]
  },
  {
   "cell_type": "code",
   "execution_count": 7,
   "id": "b2860d2b-ee3f-4ec1-9b6f-dcc7ae68a6d3",
   "metadata": {},
   "outputs": [
    {
     "data": {
      "text/plain": [
       "-0.6239784946236562"
      ]
     },
     "execution_count": 7,
     "metadata": {},
     "output_type": "execute_result"
    }
   ],
   "source": [
    "b"
   ]
  },
  {
   "cell_type": "code",
   "execution_count": 8,
   "id": "b73cbdac-4384-4c34-812c-10d2e58eb134",
   "metadata": {},
   "outputs": [
    {
     "data": {
      "text/plain": [
       "0.33591397849462346"
      ]
     },
     "execution_count": 8,
     "metadata": {},
     "output_type": "execute_result"
    }
   ],
   "source": [
    "a*1.13 + b"
   ]
  },
  {
   "cell_type": "code",
   "execution_count": null,
   "id": "7acb4c02-5af2-4a3b-a9a7-08bdf6e2f357",
   "metadata": {},
   "outputs": [],
   "source": []
  }
 ],
 "metadata": {
  "kernelspec": {
   "display_name": "Python 3 (ipykernel)",
   "language": "python",
   "name": "python3"
  },
  "language_info": {
   "codemirror_mode": {
    "name": "ipython",
    "version": 3
   },
   "file_extension": ".py",
   "mimetype": "text/x-python",
   "name": "python",
   "nbconvert_exporter": "python",
   "pygments_lexer": "ipython3",
   "version": "3.9.15"
  }
 },
 "nbformat": 4,
 "nbformat_minor": 5
}
