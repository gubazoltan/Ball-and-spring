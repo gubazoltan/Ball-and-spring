{
 "cells": [
  {
   "cell_type": "code",
   "execution_count": 17,
   "id": "10188036-e3fb-4aab-ad9f-65a1c6dd4f1c",
   "metadata": {},
   "outputs": [],
   "source": [
    "import numpy as np\n",
    "import matplotlib.pyplot as plt"
   ]
  },
  {
   "cell_type": "code",
   "execution_count": 18,
   "id": "69a38798-80c9-43b7-b3d2-39e32a5fe87f",
   "metadata": {},
   "outputs": [],
   "source": [
    "k3s = [0.78, 0.80, 0.82, 0.84, 0.86]"
   ]
  },
  {
   "cell_type": "code",
   "execution_count": 19,
   "id": "e623eb3d-67a6-4162-8105-d3deb94d7f45",
   "metadata": {},
   "outputs": [],
   "source": [
    "numpoints = 41\n",
    "\n",
    "a1s = np.linspace( -np.pi, np.pi, numpoints)\n",
    "a2s = np.linspace( -np.pi, np.pi, numpoints)\n",
    "\n",
    "da1 = np.abs(a1s[1] - a1s[0]) \n",
    "da2 = np.abs(a2s[1] - a2s[0]) "
   ]
  },
  {
   "cell_type": "code",
   "execution_count": 20,
   "id": "55f002b9-c9b4-48ed-89fe-087ffadc2869",
   "metadata": {},
   "outputs": [],
   "source": [
    "fname = \"../datas/v2_newparams_r1_2.6_\" + str(numpoints)\n",
    "\n",
    "indata = np.loadtxt(fname = fname)\n",
    "\n",
    "vorts_list = indata.reshape((len(k3s), numpoints, numpoints))"
   ]
  },
  {
   "cell_type": "code",
   "execution_count": 23,
   "id": "f44b1554-1aba-4b72-9ab9-e7b8240d83d1",
   "metadata": {},
   "outputs": [
    {
     "name": "stdout",
     "output_type": "stream",
     "text": [
      "0.86\n",
      "red 2.748893571891069 4.005530633326986\n",
      "blue 1.4922565104551517 1.4922565104551517\n",
      "0.84\n",
      "red 2.748893571891069 3.691371367968007\n",
      "blue 1.4922565104551517 1.6493361431346414\n",
      "0.82\n",
      "red 2.748893571891069 3.3772121026090276\n",
      "blue 1.6493361431346414 1.806415775814131\n",
      "0.8\n",
      "red 2.5918139392115793 3.220132469929538\n",
      "blue 1.806415775814131 1.9634954084936207\n",
      "0.78\n",
      "blue 1.9634954084936207 2.2776546738526\n",
      "red 2.4347343065320897 2.748893571891069\n"
     ]
    },
    {
     "data": {
      "image/png": "[encoded data removed]",
      "text/plain": [
       "<Figure size 500x500 with 1 Axes>"
      ]
     },
     "metadata": {},
     "output_type": "display_data"
    }
   ],
   "source": [
    "fig = plt.figure(figsize = (5,5))\n",
    "\n",
    "alpha_0 = 0.2\n",
    "alpha_fin = 0.99\n",
    "\n",
    "a = (alpha_fin - alpha_0) / (np.max(k3s) - np.min(k3s))\n",
    "b = alpha_0  - a * np.min(k3s)\n",
    "\n",
    "for k in range(len(vorts_list)-1,-1,-1):\n",
    "    \n",
    "    k3 = k3s[k] \n",
    "    print(k3)\n",
    "    vorticies = vorts_list[k]\n",
    "    \n",
    "    #iterate through the parameter space\n",
    "    for i in range(len(a2s)):\n",
    "        for j in range(len(a1s)):\n",
    "            \n",
    "            #if there is a point with vorticitiy close to 1 then plot it as a red dot\n",
    "            if np.abs( vorticies[i,j] - 1 ) < 1e-5:\n",
    "                cord_x = a1s[j] + da1 / 2\n",
    "                cord_y = a2s[i] + da2 / 2\n",
    "                \n",
    "                if cord_x < - np.pi / 2: \n",
    "                    cord_x = 2 * np.pi + cord_x\n",
    "                if cord_y < - np.pi / 2:\n",
    "                    cord_y = 2 * np.pi + cord_y \n",
    "                    \n",
    "                plt.scatter(cord_x, cord_y, color = \"red\", s = 30, alpha = a * k3 + b)\n",
    "                print(\"red\", cord_x, cord_y)\n",
    "                \n",
    "            #if there is a point with vorticitiy close to -1 then plot it as a blue dot\n",
    "            elif np.abs( vorticies[i,j] + 1 ) < 1e-5:\n",
    "                cord_x = a1s[j] + da1 / 2\n",
    "                cord_y = a2s[i] + da2 / 2\n",
    "                \n",
    "                if cord_x < - np.pi / 2: \n",
    "                    cord_x = 2 * np.pi + cord_x\n",
    "                if cord_y < - np.pi / 2:\n",
    "                    cord_y = 2 * np.pi + cord_y \n",
    "                    \n",
    "                plt.scatter(cord_x, cord_y, color = \"blue\", s = 30, alpha = a * k3 + b)\n",
    "                print(\"blue\", cord_x, cord_y)\n",
    "                \n",
    "            elif np.abs( vorticies[i,j]) < 1e-5:\n",
    "                pass\n",
    "            else:\n",
    "                print(\"charge:\", vorticies[i,j])\n",
    "\n",
    "#add labels to axis\n",
    "plt.xlabel(r\"$\\alpha$\", fontsize = 16)\n",
    "plt.ylabel(r\"$\\beta$\", fontsize = 16)\n",
    "\n",
    "plt.xlim([-np.pi/2,3*np.pi/2])\n",
    "plt.ylim([-np.pi/2,3*np.pi/2])\n",
    "\n",
    "#add new tick labels\n",
    "tickvals = [-np.pi/2,0, np.pi/2, np.pi, 3*np.pi/2]\n",
    "ticklabels = [r\"$- \\pi /2$\", r\"$0$\", r\"$\\pi/2$\", r\"$\\pi$\", r\"$3 \\pi/2$\"]\n",
    "\n",
    "#add the ticks to the figure\n",
    "plt.xticks(tickvals, ticklabels, fontsize = 10)\n",
    "plt.yticks(tickvals, ticklabels, fontsize = 10)\n",
    "\n",
    "plt.legend([r\"$q = +1$\", r\"$q = -1$\"], fontsize = 14, loc='upper left')\n",
    "plt.savefig(\"../figures/v2_newparamfinder.svg\", dpi = 1200, bbox_inches = \"tight\")\n",
    "plt.show()"
   ]
  }
 ],
 "metadata": {
  "kernelspec": {
   "display_name": "Python 3 (ipykernel)",
   "language": "python",
   "name": "python3"
  },
  "language_info": {
   "codemirror_mode": {
    "name": "ipython",
    "version": 3
   },
   "file_extension": ".py",
   "mimetype": "text/x-python",
   "name": "python",
   "nbconvert_exporter": "python",
   "pygments_lexer": "ipython3",
   "version": "3.9.15"
  }
 },
 "nbformat": 4,
 "nbformat_minor": 5
}
