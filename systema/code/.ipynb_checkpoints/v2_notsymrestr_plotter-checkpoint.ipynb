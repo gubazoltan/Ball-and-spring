{
 "cells": [
  {
   "cell_type": "code",
   "execution_count": 12,
   "id": "d871be2c-1e5c-4b0e-927a-f86fedbd1fec",
   "metadata": {},
   "outputs": [],
   "source": [
    "import numpy as np\n",
    "import matplotlib.pyplot as plt"
   ]
  },
  {
   "cell_type": "code",
   "execution_count": 13,
   "id": "ec570698-a4ca-485e-88a6-ca474e3a6a3a",
   "metadata": {},
   "outputs": [],
   "source": [
    "k3s = [0.76, 0.78, 0.80, 0.82, 0.84, 0.86]"
   ]
  },
  {
   "cell_type": "code",
   "execution_count": 14,
   "id": "6ca95309-6d67-48d3-84fc-229346dbbef2",
   "metadata": {},
   "outputs": [],
   "source": [
    "numpoints = 61\n",
    "\n",
    "a1s = np.linspace( -np.pi, np.pi, numpoints)\n",
    "a2s = np.linspace( -np.pi, np.pi, numpoints)\n",
    "\n",
    "da1 = np.abs(a1s[1] - a1s[0]) \n",
    "da2 = np.abs(a2s[1] - a2s[0]) "
   ]
  },
  {
   "cell_type": "code",
   "execution_count": 15,
   "id": "eeb24d96-78a5-49ae-8916-53cfe9b8371b",
   "metadata": {},
   "outputs": [],
   "source": [
    "fname = \"../datas/v2_notsymrestr_r1_2.6_\" + str(numpoints)\n",
    "\n",
    "indata = np.loadtxt(fname = fname)\n",
    "\n",
    "vorts_list = indata.reshape((len(k3s), numpoints, numpoints))"
   ]
  },
  {
   "cell_type": "code",
   "execution_count": 16,
   "id": "f83dcaa8-625b-487f-9b10-4e8a18e4e6e7",
   "metadata": {},
   "outputs": [
    {
     "name": "stdout",
     "output_type": "stream",
     "text": [
      "0.86\n",
      "red 2.7750735106709836 4.031710572106901\n",
      "blue 1.4137166941154067 1.5184364492350662\n",
      "0.84\n",
      "red 2.7750735106709836 3.7175513067479216\n",
      "blue 1.5184364492350662 1.6231562043547265\n",
      "0.82\n",
      "red 2.7750735106709836 3.4033920413889422\n",
      "blue 1.6231562043547265 1.727875959474386\n",
      "0.8\n",
      "red 2.670353755551324 3.1939525311496233\n",
      "blue 1.8325957145940455 1.9373154697137058\n",
      "0.78\n",
      "blue 2.0420352248333655 2.2514747350726854\n",
      "red 2.356194490192345 2.7750735106709836\n",
      "0.76\n"
     ]
    },
    {
     "data": {
      "image/png": "[encoded data removed]",
      "text/plain": [
       "<Figure size 500x500 with 1 Axes>"
      ]
     },
     "metadata": {},
     "output_type": "display_data"
    }
   ],
   "source": [
    "fig = plt.figure(figsize = (5,5))\n",
    "\n",
    "alpha_min = 0.2\n",
    "alpha_max = 0.99\n",
    "\n",
    "a = (alpha_max - alpha_min) / (np.max(k3s) - np.min(k3s))\n",
    "b = alpha_min  - a * np.min(k3s)\n",
    "\n",
    "for k in range(len(vorts_list)-1,-1,-1):\n",
    "    \n",
    "    k3 = k3s[k] \n",
    "    print(k3)\n",
    "    vorticies = vorts_list[k]\n",
    "    \n",
    "    #iterate through the parameter space\n",
    "    for i in range(len(a2s)):\n",
    "        for j in range(len(a1s)):\n",
    "            \n",
    "            #if there is a point with vorticitiy close to 1 then plot it as a red dot\n",
    "            if np.abs( vorticies[i,j] - 1 ) < 1e-5:\n",
    "                cord_x = a1s[j] + da1 / 2\n",
    "                cord_y = a2s[i] + da2 / 2\n",
    "                \n",
    "                if cord_x < - np.pi / 2: \n",
    "                    cord_x = 2 * np.pi + cord_x\n",
    "                if cord_y < - np.pi / 2:\n",
    "                    cord_y = 2 * np.pi + cord_y \n",
    "                    \n",
    "                plt.scatter(cord_x, cord_y, color = \"red\", s = 30, alpha = a * k3 + b)\n",
    "                print(\"red\", cord_x, cord_y)\n",
    "                \n",
    "            #if there is a point with vorticitiy close to -1 then plot it as a blue dot\n",
    "            elif np.abs( vorticies[i,j] + 1 ) < 1e-5:\n",
    "                cord_x = a1s[j] + da1 / 2\n",
    "                cord_y = a2s[i] + da2 / 2\n",
    "                \n",
    "                if cord_x < - np.pi / 2: \n",
    "                    cord_x = 2 * np.pi + cord_x\n",
    "                if cord_y < - np.pi / 2:\n",
    "                    cord_y = 2 * np.pi + cord_y \n",
    "                    \n",
    "                plt.scatter(cord_x, cord_y, color = \"blue\", s = 30, alpha = a * k3 + b)\n",
    "                print(\"blue\", cord_x, cord_y)\n",
    "                \n",
    "            elif np.abs( vorticies[i,j]) < 1e-5:\n",
    "                pass\n",
    "            else:\n",
    "                print(\"charge:\", vorticies[i,j])\n",
    "\n",
    "#add labels to axis\n",
    "plt.xlabel(r\"$\\alpha$\", fontsize = 16)\n",
    "plt.ylabel(r\"$\\beta$\", fontsize = 16)\n",
    "\n",
    "plt.xlim([-np.pi/2,3*np.pi/2])\n",
    "plt.ylim([-np.pi/2,3*np.pi/2])\n",
    "\n",
    "#add new tick labels\n",
    "tickvals = [-np.pi/2,0, np.pi/2, np.pi, 3*np.pi/2]\n",
    "ticklabels = [r\"$- \\pi /2$\", r\"$0$\", r\"$\\pi/2$\", r\"$\\pi$\", r\"$3 \\pi/2$\"]\n",
    "\n",
    "#add the ticks to the figure\n",
    "plt.xticks(tickvals, ticklabels, fontsize = 10)\n",
    "plt.yticks(tickvals, ticklabels, fontsize = 10)\n",
    "\n",
    "plt.legend([r\"$q = +1$\", r\"$q = -1$\"], fontsize = 14, loc='upper left')\n",
    "plt.savefig(\"../figures/v2_notsymrestr.svg\", dpi = 1200, bbox_inches = \"tight\")\n",
    "plt.show()"
   ]
  },
  {
   "cell_type": "code",
   "execution_count": null,
   "id": "386681aa-105e-4769-9124-03199cc03d4f",
   "metadata": {},
   "outputs": [],
   "source": []
  }
 ],
 "metadata": {
  "kernelspec": {
   "display_name": "Python 3 (ipykernel)",
   "language": "python",
   "name": "python3"
  },
  "language_info": {
   "codemirror_mode": {
    "name": "ipython",
    "version": 3
   },
   "file_extension": ".py",
   "mimetype": "text/x-python",
   "name": "python",
   "nbconvert_exporter": "python",
   "pygments_lexer": "ipython3",
   "version": "3.9.15"
  }
 },
 "nbformat": 4,
 "nbformat_minor": 5
}
